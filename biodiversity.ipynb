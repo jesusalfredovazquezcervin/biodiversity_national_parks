{
 "cells": [
  {
   "cell_type": "markdown",
   "metadata": {},
   "source": [
    "# Introduction "
   ]
  },
  {
   "cell_type": "markdown",
   "metadata": {},
   "source": [
    "This goal of this project is to analyze biodiversity data from the National Parks Service, particularly around various species observed in different national park locations.\n",
    "\n",
    "This project will scope, analyze, prepare, plot data, and seek to explain the findings from the analysis.\n",
    "\n",
    "Here are a few questions that this project has sought to answer:\n",
    "\n",
    "- What is the distribution of conservation status for species?\n",
    "- Are certain types of species more likely to be endangered?\n",
    "- Are the differences between species and their conservation status significant?\n",
    "- Which animal is most prevalent and what is their distribution amongst parks?\n"
   ]
  },
  {
   "cell_type": "markdown",
   "metadata": {},
   "source": [
    "# Data Sources"
   ]
  },
  {
   "cell_type": "markdown",
   "metadata": {},
   "source": [
    "Both `Observations.csv` and `Species_info.csv` was provided by [Codecademy.com](https://www.codecademy.com)."
   ]
  },
  {
   "cell_type": "markdown",
   "metadata": {},
   "source": [
    "# Project Goals"
   ]
  },
  {
   "cell_type": "markdown",
   "metadata": {},
   "source": [
    "In this project the perspective will be through a biodiversity analyst for the National Parks Service. The National Park Service wants to ensure the survival of at-risk species, to maintain the level of biodiversity within their parks. Therefore, the main objectives as an analyst will be understanding characteristics about the species and their conservations status, and those species and their relationship to the national parks. Some questions that are posed:\n",
    "\n",
    "- What is the distribution of conservation status for species?\n",
    "- Are certain types of species more likely to be endangered?\n",
    "- Are the differences between species and their conservation status significant?\n",
    "- Which animal is most prevalent and what is their distribution amongst parks?"
   ]
  },
  {
   "cell_type": "markdown",
   "metadata": {},
   "source": [
    "# Data"
   ]
  },
  {
   "cell_type": "markdown",
   "metadata": {},
   "source": [
    "This project has two data sets that came with the package. The first `csv` file has information about each species and another has observations of species with park locations. This data will be used to analyze the goals of the project. "
   ]
  },
  {
   "cell_type": "markdown",
   "metadata": {},
   "source": [
    "# Analysis"
   ]
  },
  {
   "cell_type": "markdown",
   "metadata": {},
   "source": [
    "In this section, descriptive statistics and data visualization techniques will be employed to understand the data better. Statistical inference will also be used to test if the observed values are statistically significant. Some of the key metrics that will be computed include: \n",
    "\n",
    "1. Distributions\n",
    "1. counts\n",
    "1. relationship between species\n",
    "1. conservation status of species\n",
    "1. observations of species in parks. \n"
   ]
  },
  {
   "cell_type": "markdown",
   "metadata": {},
   "source": [
    "# Import Python modules"
   ]
  },
  {
   "cell_type": "code",
   "execution_count": 1,
   "metadata": {},
   "outputs": [],
   "source": [
    "import pandas as pd\n",
    "import numpy as np\n",
    "\n",
    "from matplotlib import pyplot as plt\n",
    "import seaborn as sns\n",
    "%matplotlib inline"
   ]
  },
  {
   "cell_type": "markdown",
   "metadata": {},
   "source": [
    "# Loading data..."
   ]
  },
  {
   "cell_type": "code",
   "execution_count": 2,
   "metadata": {},
   "outputs": [
    {
     "name": "stdout",
     "output_type": "stream",
     "text": [
      "\n",
      "\n",
      "\n",
      "------Observations Data Frame------------------------------\n",
      "-----------------------------------------------------------\n",
      "<class 'pandas.core.frame.DataFrame'>\n",
      "RangeIndex: 23296 entries, 0 to 23295\n",
      "Data columns (total 3 columns):\n",
      " #   Column           Non-Null Count  Dtype \n",
      "---  ------           --------------  ----- \n",
      " 0   scientific_name  23296 non-null  object\n",
      " 1   park_name        23296 non-null  object\n",
      " 2   observations     23296 non-null  int64 \n",
      "dtypes: int64(1), object(2)\n",
      "memory usage: 546.1+ KB\n",
      "                     scientific_name                            park_name  \\\n",
      "0                 Vicia benghalensis  Great Smoky Mountains National Park   \n",
      "1                     Neovison vison  Great Smoky Mountains National Park   \n",
      "2                  Prunus subcordata               Yosemite National Park   \n",
      "3               Abutilon theophrasti                  Bryce National Park   \n",
      "4           Githopsis specularioides  Great Smoky Mountains National Park   \n",
      "5  Elymus virginicus var. virginicus               Yosemite National Park   \n",
      "6                   Spizella pusilla            Yellowstone National Park   \n",
      "7                  Elymus multisetus  Great Smoky Mountains National Park   \n",
      "8             Lysimachia quadrifolia               Yosemite National Park   \n",
      "9         Diphyscium cumberlandianum            Yellowstone National Park   \n",
      "\n",
      "   observations  \n",
      "0            68  \n",
      "1            77  \n",
      "2           138  \n",
      "3            84  \n",
      "4            85  \n",
      "5           112  \n",
      "6           228  \n",
      "7            39  \n",
      "8           168  \n",
      "9           250  \n",
      "\n",
      "\n",
      "\n",
      "------Species Data Frame-----------------------------------\n",
      "-----------------------------------------------------------\n",
      "<class 'pandas.core.frame.DataFrame'>\n",
      "RangeIndex: 5824 entries, 0 to 5823\n",
      "Data columns (total 4 columns):\n",
      " #   Column               Non-Null Count  Dtype \n",
      "---  ------               --------------  ----- \n",
      " 0   category             5824 non-null   object\n",
      " 1   scientific_name      5824 non-null   object\n",
      " 2   common_names         5824 non-null   object\n",
      " 3   conservation_status  191 non-null    object\n",
      "dtypes: object(4)\n",
      "memory usage: 182.1+ KB\n",
      "  category                scientific_name  \\\n",
      "0   Mammal  Clethrionomys gapperi gapperi   \n",
      "1   Mammal                      Bos bison   \n",
      "2   Mammal                     Bos taurus   \n",
      "3   Mammal                     Ovis aries   \n",
      "4   Mammal                 Cervus elaphus   \n",
      "\n",
      "                                        common_names conservation_status  \n",
      "0                           Gapper's Red-Backed Vole                 NaN  \n",
      "1                              American Bison, Bison                 NaN  \n",
      "2  Aurochs, Aurochs, Domestic Cattle (Feral), Dom...                 NaN  \n",
      "3  Domestic Sheep, Mouflon, Red Sheep, Sheep (Feral)                 NaN  \n",
      "4                                      Wapiti Or Elk                 NaN  \n"
     ]
    }
   ],
   "source": [
    "odf = pd.read_csv(\"observations.csv\")\n",
    "\n",
    "print(\"\\n\\n\\n------Observations Data Frame------------------------------\")\n",
    "print(\"-----------------------------------------------------------\")\n",
    "odf.info()\n",
    "print(odf.head(10))\n",
    "\n",
    "sdf = pd.read_csv(\"species_info.csv\")\n",
    "print(\"\\n\\n\\n------Species Data Frame-----------------------------------\")\n",
    "print(\"-----------------------------------------------------------\")\n",
    "sdf.info()\n",
    "print(sdf.head())"
   ]
  },
  {
   "cell_type": "markdown",
   "metadata": {},
   "source": [
    "# Cleaning Data"
   ]
  },
  {
   "cell_type": "code",
   "execution_count": 3,
   "metadata": {},
   "outputs": [
    {
     "name": "stdout",
     "output_type": "stream",
     "text": [
      "These are the duplicated records in Observations\n",
      "False    23281\n",
      "True        15\n",
      "dtype: int64\n",
      "-----------------------------------------------------------\n",
      "\n",
      "These are the duplicated records in Species\n",
      "False    5824\n",
      "dtype: int64\n",
      "-----------------------------------------------------------\n",
      "\n",
      "Deleting duplicates\n",
      "-----------------------------------------------------------\n",
      "\n",
      "Lenght before dropping duplicates -> 23296\n",
      "\n",
      "Lenght after dropping duplicates -> 23281\n",
      "\n",
      "Printing categories...\n",
      "-----------------------------------------------------------\n",
      "['Mammal' 'Bird' 'Reptile' 'Amphibian' 'Fish' 'Vascular Plant'\n",
      " 'Nonvascular Plant']\n",
      "\n",
      "Creating datatype categorical...\n",
      "-----------------------------------------------------------\n",
      "\n",
      "Printing data type of Category...\n",
      "-----------------------------------------------------------\n",
      "<class 'pandas.core.series.Series'>\n",
      "\n",
      "Printing mean of categories, using cat codes\n",
      "-----------------------------------------------------------\n",
      "4.425652472527473\n",
      "\n",
      "Testing the new numeric categories--->> The mean category is->Fish\n",
      "-----------------------------------------------------------\n",
      "\n",
      "Species info ------\n",
      "-----------------------------------------------------------\n",
      "-----------------------------------------------------------\n",
      "<class 'pandas.core.frame.DataFrame'>\n",
      "RangeIndex: 5824 entries, 0 to 5823\n",
      "Data columns (total 4 columns):\n",
      " #   Column               Non-Null Count  Dtype   \n",
      "---  ------               --------------  -----   \n",
      " 0   category             5824 non-null   category\n",
      " 1   scientific_name      5824 non-null   object  \n",
      " 2   common_names         5824 non-null   object  \n",
      " 3   conservation_status  191 non-null    object  \n",
      "dtypes: category(1), object(3)\n",
      "memory usage: 142.7+ KB\n",
      "None\n"
     ]
    }
   ],
   "source": [
    "#sdf['conservation_status'] = sdf.conservation_status.isnull\n",
    "#odf.drop_duplicates()\n",
    "#sdf.drop.duplicates()\n",
    "dup = odf.duplicated()\n",
    "print(\"These are the duplicated records in Observations\\n{}\".format(dup.value_counts()))\n",
    "print(\"-----------------------------------------------------------\")\n",
    "\n",
    "dup = sdf.duplicated()\n",
    "print(\"\\nThese are the duplicated records in Species\\n{}\".format(dup.value_counts()))\n",
    "print(\"-----------------------------------------------------------\")\n",
    "\n",
    "\n",
    "print(\"\\nDeleting duplicates\")\n",
    "print(\"-----------------------------------------------------------\")\n",
    "print(\"\\nLenght before dropping duplicates ->\", len(odf))\n",
    "odf.drop_duplicates(inplace=True)\n",
    "print(\"\\nLenght after dropping duplicates ->\", len(odf))\n",
    "\n",
    "#print(\"\\nFilling 'Nan' with the word 'None'\")\n",
    "#print(\"-----------------------------------------------------------\")\n",
    "\n",
    "#sdf = sdf.fillna(\n",
    "#  value={'conservation_status':'None'}\n",
    "#)\n",
    "#print(\"\\nAfter the filling with the word 'None'\")\n",
    "#print(\"-----------------------------------------------------------\")\n",
    "#print(sdf.head())\n",
    "\n",
    "print(\"\\nPrinting categories...\")\n",
    "print(\"-----------------------------------------------------------\")\n",
    "\n",
    "print(sdf.category.unique())\n",
    "\n",
    "print(\"\\nCreating datatype categorical...\")\n",
    "print(\"-----------------------------------------------------------\")\n",
    "categories = ['Mammal', 'Bird', 'Reptile', 'Amphibian', 'Fish', 'Vascular Plant', 'Nonvascular Plant']\n",
    "sdf.category = pd.Categorical(sdf.category, categories, ordered = False)\n",
    "\n",
    "print(\"\\nPrinting data type of Category...\")\n",
    "print(\"-----------------------------------------------------------\")\n",
    "print(type(sdf.category))\n",
    "\n",
    "print(\"\\nPrinting mean of categories, using cat codes\")\n",
    "print(\"-----------------------------------------------------------\")\n",
    "\n",
    "index_category = np.mean(sdf.category.cat.codes)\n",
    "print(index_category)\n",
    "print(\"\\nTesting the new numeric categories--->> The mean category is->{mean_cat}\".format(mean_cat=categories[int(index_category)]))\n",
    "print(\"-----------------------------------------------------------\")\n",
    "print(\"\\nSpecies info ------\")\n",
    "print(\"-----------------------------------------------------------\")\n",
    "print(\"-----------------------------------------------------------\")\n",
    "print(sdf.info())"
   ]
  },
  {
   "cell_type": "markdown",
   "metadata": {},
   "source": [
    "## Reagroup data in Observations Data Frame"
   ]
  },
  {
   "cell_type": "markdown",
   "metadata": {},
   "source": [
    "As we can observe, there are many records of the same species but with different number of observations."
   ]
  },
  {
   "cell_type": "code",
   "execution_count": 4,
   "metadata": {},
   "outputs": [
    {
     "name": "stdout",
     "output_type": "stream",
     "text": [
      "     scientific_name            park_name  observations\n",
      "1766     Canis lupus  Bryce National Park            27\n",
      "7346     Canis lupus  Bryce National Park            29\n",
      "9884     Canis lupus  Bryce National Park            74\n",
      "-----------------------------------------------------------\n",
      "-----------------------------------------------------------\n",
      "\n"
     ]
    }
   ],
   "source": [
    "canis_lupus = odf[(odf.scientific_name == 'Canis lupus') & (odf.park_name == 'Bryce National Park')]\n",
    "print(canis_lupus.head())\n",
    "print(\"-----------------------------------------------------------\")\n",
    "print(\"-----------------------------------------------------------\")\n",
    "print()\n",
    "\n"
   ]
  },
  {
   "cell_type": "markdown",
   "metadata": {},
   "source": [
    "Reagrupamos y creamos otro data frame"
   ]
  },
  {
   "cell_type": "code",
   "execution_count": 5,
   "metadata": {},
   "outputs": [
    {
     "name": "stdout",
     "output_type": "stream",
     "text": [
      "\n",
      "Lenght old data frame -> 23281\n",
      "\n",
      "New Observations Data Frame ----->>>\n",
      "\n",
      "Lenght new data frame -> 22164\n",
      "\n",
      "New canis lupus---------------\n",
      "-----------------------------------------------------------\n",
      "     scientific_name            park_name  observations\n",
      "3216     Canis lupus  Bryce National Park           130\n",
      "-----------------------------------------------------------\n"
     ]
    }
   ],
   "source": [
    "print(\"\\nLenght old data frame ->\", len(odf))\n",
    "\n",
    "new_odf = odf.groupby(['scientific_name', 'park_name']).observations.sum().reset_index()\n",
    "print('\\nNew Observations Data Frame ----->>>')\n",
    "\n",
    "print(\"\\nLenght new data frame ->\", len(new_odf))\n",
    "\n",
    "canis_lupus = new_odf[(new_odf.scientific_name == 'Canis lupus') & (new_odf.park_name == 'Bryce National Park')]\n",
    "print(\"\\nNew canis lupus---------------\")\n",
    "print(\"-----------------------------------------------------------\")\n",
    "print(canis_lupus.head())\n",
    "print(\"-----------------------------------------------------------\")\n"
   ]
  },
  {
   "cell_type": "markdown",
   "metadata": {},
   "source": [
    "Now we have regrouped the data frame, and we have only one record for the Canis Lupus Species"
   ]
  },
  {
   "cell_type": "markdown",
   "metadata": {},
   "source": [
    "## Cleaning Species Data Frame"
   ]
  },
  {
   "cell_type": "code",
   "execution_count": 6,
   "metadata": {},
   "outputs": [
    {
     "name": "stdout",
     "output_type": "stream",
     "text": [
      "\n",
      "Sample of a various records of the Canis Lupus Species.\n",
      "We can see there are several records of the same species but different status and common name.\n",
      "\n",
      "      category scientific_name     common_names conservation_status\n",
      "8      Mammal     Canis lupus        Gray Wolf          Endangered\n",
      "3020   Mammal     Canis lupus  Gray Wolf, Wolf         In Recovery\n",
      "4448   Mammal     Canis lupus  Gray Wolf, Wolf          Endangered\n",
      "\n",
      " So we're gonna create a new clean species data frame\n",
      "-------------------------------------------------------\n",
      "\n",
      "Here we got the new data frame without the common name column.\n",
      "\n",
      "<class 'pandas.core.frame.DataFrame'>\n",
      "RangeIndex: 5824 entries, 0 to 5823\n",
      "Data columns (total 3 columns):\n",
      " #   Column               Non-Null Count  Dtype   \n",
      "---  ------               --------------  -----   \n",
      " 0   category             5824 non-null   category\n",
      " 1   scientific_name      5824 non-null   object  \n",
      " 2   conservation_status  191 non-null    object  \n",
      "dtypes: category(1), object(2)\n",
      "memory usage: 97.2+ KB\n",
      "None\n",
      "\n",
      "Lenght of new species data frame before dropping--> 5824\n",
      "\n",
      "Droping duplicates over new species ...\n",
      "\n",
      "Lenght of new species after dropping--> 5541\n",
      "\n",
      "Canis Lupus after droping-->>\n",
      "   category scientific_name conservation_status\n",
      "8   Mammal     Canis lupus          Endangered\n",
      "-----------------------------------------------------------\n"
     ]
    }
   ],
   "source": [
    "canis_lupus = sdf[sdf.scientific_name == 'Canis lupus']\n",
    "print(\"\\nSample of a various records of the Canis Lupus Species.\\nWe can see there are several records of the same species but different status and common name.\")\n",
    "print(\"\\n\",canis_lupus)\n",
    "\n",
    "\n",
    "print(\"\\n So we're gonna create a new clean species data frame\")\n",
    "print(\"-------------------------------------------------------\")\n",
    "\n",
    "\n",
    "sdf2 = sdf[['category', 'scientific_name','conservation_status']]\n",
    "print('\\nHere we got the new data frame without the common name column.\\n')\n",
    "print(sdf2.info())\n",
    "\n",
    "print(\"\\nLenght of new species data frame before dropping-->\", len(sdf2))\n",
    "print(\"\\nDroping duplicates over new species ...\")\n",
    "#sdf2.drop_duplcates(subset=['brand', 'style'], keep='last')\n",
    "sdf2 = sdf2.drop_duplicates(subset=['category', 'scientific_name'], keep='first')\n",
    "print(\"\\nLenght of new species after dropping-->\", len(sdf2))\n",
    "\n",
    "\n",
    "print(\"\\nCanis Lupus after droping-->>\\n\", sdf2[sdf2.scientific_name == 'Canis lupus'])\n",
    "print(\"-----------------------------------------------------------\")"
   ]
  },
  {
   "cell_type": "markdown",
   "metadata": {},
   "source": [
    "# Analysis"
   ]
  },
  {
   "cell_type": "markdown",
   "metadata": {},
   "source": [
    "## What is the distribution of conservation status for species?"
   ]
  },
  {
   "cell_type": "code",
   "execution_count": 7,
   "metadata": {},
   "outputs": [
    {
     "name": "stdout",
     "output_type": "stream",
     "text": [
      "Value counts sdf->>\n",
      " Species of Concern    161\n",
      "Endangered             16\n",
      "Threatened             10\n",
      "In Recovery             4\n",
      "Name: conservation_status, dtype: int64\n",
      "\n",
      "Value counts sdf2->>\n",
      " Species of Concern    151\n",
      "Endangered             15\n",
      "Threatened              9\n",
      "In Recovery             3\n",
      "Name: conservation_status, dtype: int64\n"
     ]
    },
    {
     "data": {
      "image/png": "[encoded data removed]",
      "text/plain": [
       "<Figure size 1080x504 with 2 Axes>"
      ]
     },
     "metadata": {
      "needs_background": "light"
     },
     "output_type": "display_data"
    },
    {
     "name": "stdout",
     "output_type": "stream",
     "text": [
      "\n",
      "Lenght of endangered specie sdf-> 16\n",
      "\n",
      "Lenght of endangered specie sdf2-> 15\n"
     ]
    },
    {
     "data": {
      "text/plain": [
       "<Figure size 432x288 with 0 Axes>"
      ]
     },
     "metadata": {},
     "output_type": "display_data"
    }
   ],
   "source": [
    "fig, axs = plt.subplots(1, 2, figsize=(15, 7))\n",
    "\n",
    "\n",
    "print(\"Value counts sdf->>\\n\",sdf.conservation_status.value_counts())\n",
    "print(\"\\nValue counts sdf2->>\\n\",sdf2.conservation_status.value_counts())\n",
    "\n",
    "#Plot with the old Species data frame\n",
    "sns.histplot(sdf.conservation_status, kde=False, ax=axs[0])\n",
    "sns.set_style(\"whitegrid\")\n",
    "axs[0].grid(False, axis = 'x')\n",
    "axs[0].set_title(\"Distribution of conservation status for species (sdf)\" )\n",
    "#plt.savefig(\"Distribtion_Status_Species.png\")\n",
    "\n",
    "#Plot with the new Species data frame\n",
    "axs[1].set_title(\"Distribution of conservation status for species (sdf2)\" )\n",
    "sns.histplot(sdf2.conservation_status, kde=False, ax=axs[1])\n",
    "\n",
    "plt.savefig('Distr_conservation.png')\n",
    "\n",
    "plt.show()\n",
    "plt.clf()\n",
    "\n",
    "endangered_specie = sdf[sdf.conservation_status == 'Endangered']\n",
    "print(\"\\nLenght of endangered specie sdf->\",len(endangered_specie))\n",
    "endangered_specie = sdf2[sdf2.conservation_status == 'Endangered']\n",
    "print(\"\\nLenght of endangered specie sdf2->\",len(endangered_specie))"
   ]
  },
  {
   "cell_type": "markdown",
   "metadata": {},
   "source": [
    "## Are certain types of species more likely to be endangered?"
   ]
  },
  {
   "cell_type": "code",
   "execution_count": 8,
   "metadata": {},
   "outputs": [
    {
     "name": "stdout",
     "output_type": "stream",
     "text": [
      "\n",
      "These are the especies more like to be endangered-->\n",
      " 8                        Canis lupus\n",
      "9                        Canis rufus\n",
      "34                 Myotis grisescens\n",
      "39                    Myotis sodalis\n",
      "72      Glaucomys sabrinus coloratus\n",
      "173                   Grus americana\n",
      "276              Vermivora bachmanii\n",
      "343                Picoides borealis\n",
      "540             Etheostoma percnurum\n",
      "570                  Noturus baileyi\n",
      "2497                   Geum radiatum\n",
      "3275               Chasmistes liorus\n",
      "4446         Ovis canadensis sierrae\n",
      "4505         Gymnogyps californianus\n",
      "4601                    Rana sierrae\n",
      "Name: scientific_name, dtype: object\n"
     ]
    }
   ],
   "source": [
    "print(\"\\nThese are the especies more like to be endangered-->\\n\", endangered_specie.scientific_name)"
   ]
  },
  {
   "cell_type": "markdown",
   "metadata": {},
   "source": [
    "## Are the differences between species and their conservation status significant?"
   ]
  },
  {
   "cell_type": "markdown",
   "metadata": {},
   "source": [
    "The `species` variable is: `categorical nominal`\n",
    "The `conservation_status` variable is: `categorical`.\n",
    "We're going to make a `Chi-Square Test`"
   ]
  },
  {
   "cell_type": "code",
   "execution_count": 9,
   "metadata": {},
   "outputs": [
    {
     "name": "stdout",
     "output_type": "stream",
     "text": [
      "-------\n",
      "The pval is -> 0.45527924478334036\n",
      "The differences between species and their conservation estatus are not significant!\n"
     ]
    }
   ],
   "source": [
    "from scipy.stats import chi2_contingency\n",
    "\n",
    "table = pd.crosstab(sdf2.scientific_name, sdf2.conservation_status)\n",
    "#print(table)\n",
    "\n",
    "# run Chi-Square test and print p-value\n",
    "chi2, pval, dof, expected = chi2_contingency(table)\n",
    "print('-------')\n",
    "print(\"The pval is ->\", pval)\n",
    "# determine significance\n",
    "print(\"The differences between species and their conservation estatus are not significant!\")\n"
   ]
  },
  {
   "cell_type": "markdown",
   "metadata": {},
   "source": [
    "## Which animal is most prevalent and what is their distribution amongst parks?"
   ]
  },
  {
   "cell_type": "code",
   "execution_count": 18,
   "metadata": {},
   "outputs": [
    {
     "name": "stdout",
     "output_type": "stream",
     "text": [
      "These are the most prevalent species along all the parks -> \n",
      " Castor canadensis       12\n",
      "Canis lupus             12\n",
      "Hypochaeris radicata    12\n",
      "Procyon lotor           12\n",
      "Holcus lanatus          12\n",
      "Myotis lucifugus        12\n",
      "Columba livia           12\n",
      "Puma concolor           12\n",
      "Name: scientific_name, dtype: int64\n"
     ]
    },
    {
     "data": {
      "image/png": "[encoded data removed]",
      "text/plain": [
       "<Figure size 1008x360 with 3 Axes>"
      ]
     },
     "metadata": {},
     "output_type": "display_data"
    },
    {
     "data": {
      "text/plain": [
       "<Figure size 432x288 with 0 Axes>"
      ]
     },
     "metadata": {},
     "output_type": "display_data"
    },
    {
     "data": {
      "image/png": "[encoded data removed]",
      "text/plain": [
       "<Figure size 1008x360 with 3 Axes>"
      ]
     },
     "metadata": {},
     "output_type": "display_data"
    },
    {
     "data": {
      "text/plain": [
       "<Figure size 432x288 with 0 Axes>"
      ]
     },
     "metadata": {},
     "output_type": "display_data"
    },
    {
     "data": {
      "image/png": "[encoded data removed]",
      "text/plain": [
       "<Figure size 1008x360 with 2 Axes>"
      ]
     },
     "metadata": {},
     "output_type": "display_data"
    },
    {
     "data": {
      "text/plain": [
       "<Figure size 432x288 with 0 Axes>"
      ]
     },
     "metadata": {},
     "output_type": "display_data"
    }
   ],
   "source": [
    "import re\n",
    "#we create a copy of the original observations DF \n",
    "odf_prevalent = odf\n",
    "#we rename the names of the parks\n",
    "\n",
    "prevalent  = odf_prevalent.scientific_name.value_counts()\n",
    "prev_species = prevalent[prevalent.values == 12]\n",
    "print(\"These are the most prevalent species along all the parks -> \\n\",prev_species)\n",
    "\n",
    "odf_prevalent = odf_prevalent.replace(to_replace ='National Park', value = '', regex = True).replace(to_replace ='Great Smoky Mountains', value = 'GSM', regex = True)\n",
    "\n",
    "#We get the records for the prevalent species\n",
    "prev_1 = odf_prevalent[odf_prevalent.scientific_name == 'Castor canadensis']\n",
    "prev_2 = odf_prevalent[odf_prevalent.scientific_name == 'Canis lupus']\n",
    "prev_3 = odf_prevalent[odf_prevalent.scientific_name == 'Hypochaeris radicata']\n",
    "prev_4 = odf_prevalent[odf_prevalent.scientific_name == 'Procyon lotor']\n",
    "prev_5 = odf_prevalent[odf_prevalent.scientific_name == 'Holcus lanatus']\n",
    "prev_6 = odf_prevalent[odf_prevalent.scientific_name == 'Myotis lucifugus']\n",
    "prev_7 = odf_prevalent[odf_prevalent.scientific_name == 'Columba livia']\n",
    "prev_8 = odf_prevalent[odf_prevalent.scientific_name == 'Puma concolor']\n",
    "\n",
    "\n",
    "\n",
    "\n",
    "\n",
    "\n",
    "#Row 1\n",
    "fig, axs = plt.subplots(1, 3, figsize=(14, 5))\n",
    "\n",
    "axs[0].set_xlabel('Castor canadensis')\n",
    "axs[1].set_xlabel('Canis lupus')\n",
    "axs[2].set_xlabel('Hypochaeris radicata')\n",
    "sns.histplot(x='park_name',data=prev_1, ax=axs[0])\n",
    "sns.histplot(x='park_name',data=prev_2, ax=axs[1])\n",
    "sns.histplot(x='park_name',data=prev_3, ax=axs[2])\n",
    "\n",
    "\n",
    "axs[0].legend([\"*GSM.- Great Smoky Mountains\"],loc=\"lower right\")\n",
    "axs[1].legend([\"*GSM.- Great Smoky Mountains\"],loc=\"lower right\")\n",
    "axs[2].legend([\"*GSM.- Great Smoky Mountains\"],loc=\"lower right\")\n",
    "\n",
    "\n",
    "plt.savefig('Prevalents1.png')\n",
    "plt.show()\n",
    "plt.clf()\n",
    "\n",
    "\n",
    "\n",
    "\n",
    "#Row 2\n",
    "fig, axs = plt.subplots(1, 3, figsize=(14, 5))\n",
    "\n",
    "axs[0].set_xlabel('Procyon lotor')\n",
    "axs[1].set_xlabel('Holcus lanatus')\n",
    "axs[2].set_xlabel('Myotis lucifugus')\n",
    "sns.histplot(x='park_name',data=prev_4, ax=axs[0])\n",
    "sns.histplot(x='park_name',data=prev_5, ax=axs[1])\n",
    "sns.histplot(x='park_name',data=prev_6, ax=axs[2])\n",
    "\n",
    "\n",
    "axs[0].legend([\"*GSM.- Great Smoky Mountains\"],loc=\"lower right\")\n",
    "axs[1].legend([\"*GSM.- Great Smoky Mountains\"],loc=\"lower right\")\n",
    "axs[2].legend([\"*GSM.- Great Smoky Mountains\"],loc=\"lower right\")\n",
    "\n",
    "plt.savefig('Prevalents2.png')\n",
    "plt.show()\n",
    "plt.clf()\n",
    "\n",
    "\n",
    "\n",
    "#Row 3\n",
    "fig, axs = plt.subplots(1, 2, figsize=(14, 5))\n",
    "\n",
    "axs[0].set_xlabel('Columba livia')\n",
    "axs[1].set_xlabel('Puma concolor')\n",
    "sns.histplot(x='park_name',data=prev_7, ax=axs[0])\n",
    "sns.histplot(x='park_name',data=prev_8, ax=axs[1])\n",
    "\n",
    "\n",
    "axs[0].legend([\"*GSM.- Great Smoky Mountains\"],loc=\"lower right\")\n",
    "axs[1].legend([\"*GSM.- Great Smoky Mountains\"],loc=\"lower right\")\n",
    "#axs[0,2].legend([\"*GSM.- Great Smoky Mountains\"],loc=\"lower right\")\n",
    "\n",
    "plt.savefig('Prevalents3.png')\n",
    "plt.show()\n",
    "plt.clf()\n",
    "\n",
    "\n",
    "\n",
    "#plt.subplots_adjust(hspace=0.50)\n"
   ]
  },
  {
   "cell_type": "markdown",
   "metadata": {},
   "source": [
    "# Conclusions"
   ]
  },
  {
   "cell_type": "markdown",
   "metadata": {},
   "source": [
    "We can conclude that the most prevalent species are 12 trroghtout all the national parks. Also there are 16 endangered species.\n",
    "We did'nt spect this results."
   ]
  },
  {
   "cell_type": "code",
   "execution_count": null,
   "metadata": {},
   "outputs": [],
   "source": []
  }
 ],
 "metadata": {
  "kernelspec": {
   "display_name": "Python 3 (ipykernel)",
   "language": "python",
   "name": "python3"
  },
  "language_info": {
   "codemirror_mode": {
    "name": "ipython",
    "version": 3
   },
   "file_extension": ".py",
   "mimetype": "text/x-python",
   "name": "python",
   "nbconvert_exporter": "python",
   "pygments_lexer": "ipython3",
   "version": "3.9.10"
  }
 },
 "nbformat": 4,
 "nbformat_minor": 4
}
